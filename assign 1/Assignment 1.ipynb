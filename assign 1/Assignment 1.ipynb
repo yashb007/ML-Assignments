{
 "cells": [
  {
   "cell_type": "markdown",
   "metadata": {},
   "source": [
    "Basic NLTK"
   ]
  },
  {
   "cell_type": "code",
   "execution_count": 1,
   "metadata": {},
   "outputs": [],
   "source": [
    "import nltk"
   ]
  },
  {
   "cell_type": "code",
   "execution_count": 2,
   "metadata": {},
   "outputs": [
    {
     "name": "stderr",
     "output_type": "stream",
     "text": [
      "[nltk_data] Downloading package gutenberg to\n",
      "[nltk_data]     C:\\Users\\ASUS\\AppData\\Roaming\\nltk_data...\n",
      "[nltk_data]   Package gutenberg is already up-to-date!\n",
      "[nltk_data] Downloading package punkt to\n",
      "[nltk_data]     C:\\Users\\ASUS\\AppData\\Roaming\\nltk_data...\n",
      "[nltk_data]   Package punkt is already up-to-date!\n",
      "[nltk_data] Downloading package stopwords to\n",
      "[nltk_data]     C:\\Users\\ASUS\\AppData\\Roaming\\nltk_data...\n",
      "[nltk_data]   Package stopwords is already up-to-date!\n",
      "[nltk_data] Downloading package wordnet to\n",
      "[nltk_data]     C:\\Users\\ASUS\\AppData\\Roaming\\nltk_data...\n",
      "[nltk_data]   Package wordnet is already up-to-date!\n"
     ]
    },
    {
     "data": {
      "text/plain": [
       "True"
      ]
     },
     "execution_count": 2,
     "metadata": {},
     "output_type": "execute_result"
    }
   ],
   "source": [
    "nltk.download('gutenberg')\n",
    "nltk.download('punkt')\n",
    "nltk.download('stopwords')\n",
    "nltk.download('wordnet')"
   ]
  },
  {
   "cell_type": "code",
   "execution_count": 3,
   "metadata": {},
   "outputs": [],
   "source": [
    "from nltk.corpus import gutenberg"
   ]
  },
  {
   "cell_type": "code",
   "execution_count": 4,
   "metadata": {},
   "outputs": [
    {
     "data": {
      "text/plain": [
       "['[', 'Emma', 'by', 'Jane', 'Austen', '1816', ']', ...]"
      ]
     },
     "execution_count": 4,
     "metadata": {},
     "output_type": "execute_result"
    }
   ],
   "source": [
    "gutenberg.words()"
   ]
  },
  {
   "cell_type": "code",
   "execution_count": 5,
   "metadata": {},
   "outputs": [
    {
     "data": {
      "text/plain": [
       "['austen-emma.txt',\n",
       " 'austen-persuasion.txt',\n",
       " 'austen-sense.txt',\n",
       " 'bible-kjv.txt',\n",
       " 'blake-poems.txt',\n",
       " 'bryant-stories.txt',\n",
       " 'burgess-busterbrown.txt',\n",
       " 'carroll-alice.txt',\n",
       " 'chesterton-ball.txt',\n",
       " 'chesterton-brown.txt',\n",
       " 'chesterton-thursday.txt',\n",
       " 'edgeworth-parents.txt',\n",
       " 'melville-moby_dick.txt',\n",
       " 'milton-paradise.txt',\n",
       " 'shakespeare-caesar.txt',\n",
       " 'shakespeare-hamlet.txt',\n",
       " 'shakespeare-macbeth.txt',\n",
       " 'whitman-leaves.txt']"
      ]
     },
     "execution_count": 5,
     "metadata": {},
     "output_type": "execute_result"
    }
   ],
   "source": [
    "gutenberg.fileids()"
   ]
  },
  {
   "cell_type": "markdown",
   "metadata": {},
   "source": [
    "# Q1 (1) File Method"
   ]
  },
  {
   "cell_type": "code",
   "execution_count": 17,
   "metadata": {},
   "outputs": [],
   "source": [
    "import os\n",
    "path = \"E:/ML assignments/assign 1/corpus/\"\n",
    "filenames=os.listdir(path)\n",
    "contents=[]\n",
    "for i in range(len(filenames)):\n",
    "    f=open(path+filenames[i],\"r\")\n",
    "    text=f.read()\n",
    "    contents.append(text)\n",
    "    f.close()"
   ]
  },
  {
   "cell_type": "code",
   "execution_count": 19,
   "metadata": {},
   "outputs": [
    {
     "data": {
      "text/plain": [
       "['However venture pursuit he am mr cordial. Forming musical am hearing studied be luckily. Ourselves for determine attending how led gentleman sincerity. Valley afford uneasy joy she thrown though bed set. In me forming general prudent on country carried. Behaved an or suppose justice. Seemed whence how son rather easily and change missed. Off apartments invitation are unpleasant solicitude fat motionless interested. Hardly suffer wisdom wishes valley as an. As friendship advantages resolution it alteration stimulated he or increasing. ',\n",
       " 'Debating me breeding be answered an he. Spoil event was words her off cause any. Tears woman which no is world miles woody. Wished be do mutual except in effect answer. Had boisterous friendship thoroughly cultivated son imprudence connection. Windows because concern sex its. Law allow saved views hills day ten. Examine waiting his evening day passage proceed. \\n\\n',\n",
       " 'Is branched in my up strictly remember. Songs but chief has ham widow downs. Genius or so up vanity cannot. Large do tried going about water defer by. Silent son man she wished mother. Distrusts allowance do knowledge eagerness assurance additions to.',\n",
       " 'Necessary ye contented newspaper zealously breakfast he prevailed. Melancholy middletons yet understood decisively boy law she. Answer him easily are its barton little. Oh no though mother be things simple itself. Dashwood horrible he strictly on as. Home fine in so am good body this hope. ',\n",
       " 'Allow miles wound place the leave had. To sitting subject no improve studied limited. Ye indulgence unreserved connection alteration appearance my an astonished. Up as seen sent make he they of. Her raising and himself pasture believe females. Fancy she stuff after aware merit small his. Charmed esteems luckily age out. \\n',\n",
       " 'Moments its musical age explain. But extremity sex now education concluded earnestly her continual. Oh furniture acuteness suspected continual ye something frankness. Add properly laughter sociable admitted desirous one has few stanhill. Opinion regular in perhaps another enjoyed no engaged he at. It conveying he continual ye suspected as necessary. Separate met packages shy for kindness. \\n',\n",
       " 'Received overcame oh sensible so at an. Formed do change merely to county it. Am separate contempt domestic to to oh. On relation my so addition branched. Put hearing cottage she norland letters equally prepare too. Replied exposed savings he no viewing as up. Soon body add him hill. No father living really people estate if. Mistake do produce beloved demesne if am pursuit. \\n',\n",
       " 'Comfort reached gay perhaps chamber his six detract besides add. Moonlight newspaper up he it enjoyment agreeable depending. Timed voice share led his widen noisy young. On weddings believed laughing although material do exercise of. Up attempt offered ye civilly so sitting to. She new course get living within elinor joy. She her rapturous suffering concealed. \\n',\n",
       " 'Comfort reached gay perhaps chamber his six detract besides add. Moonlight newspaper up he it enjoyment agreeable depending. Timed voice share led his widen noisy young. On weddings believed laughing although material do exercise of. Up attempt offered ye civilly so sitting to. She new course get living within elinor joy. She her rapturous suffering concealed. \\n',\n",
       " 'Article nor prepare chicken you him now. Shy merits say advice ten before lovers innate add. She cordially behaviour can attempted estimable. Trees delay fancy noise manor do as an small. Felicity now law securing breeding likewise extended and. Roused either who favour why ham. \\n']"
      ]
     },
     "execution_count": 19,
     "metadata": {},
     "output_type": "execute_result"
    }
   ],
   "source": [
    "contents"
   ]
  },
  {
   "cell_type": "markdown",
   "metadata": {},
   "source": [
    "# Q1 (2) Inbuilt"
   ]
  },
  {
   "cell_type": "code",
   "execution_count": 20,
   "metadata": {},
   "outputs": [],
   "source": [
    "from nltk.corpus import PlaintextCorpusReader \n",
    "dataset=PlaintextCorpusReader(path ,'.*')"
   ]
  },
  {
   "cell_type": "code",
   "execution_count": 21,
   "metadata": {},
   "outputs": [
    {
     "data": {
      "text/plain": [
       "<PlaintextCorpusReader in 'E:\\\\ML assignments\\\\assign 1\\\\corpus'>"
      ]
     },
     "execution_count": 21,
     "metadata": {},
     "output_type": "execute_result"
    }
   ],
   "source": [
    "dataset"
   ]
  },
  {
   "cell_type": "code",
   "execution_count": 25,
   "metadata": {},
   "outputs": [
    {
     "data": {
      "text/plain": [
       "['1.txt',\n",
       " '10.txt',\n",
       " '2.txt',\n",
       " '3.txt',\n",
       " '4.txt',\n",
       " '5.txt',\n",
       " '6.txt',\n",
       " '7.txt',\n",
       " '8.txt',\n",
       " '9.txt']"
      ]
     },
     "execution_count": 25,
     "metadata": {},
     "output_type": "execute_result"
    }
   ],
   "source": [
    "dataset.fileids()"
   ]
  },
  {
   "cell_type": "code",
   "execution_count": 27,
   "metadata": {},
   "outputs": [
    {
     "data": {
      "text/plain": [
       "'However venture pursuit he am mr cordial. Forming musical am hearing studied be luckily. Ourselves for determine attending how led gentleman sincerity. Valley afford uneasy joy she thrown though bed set. In me forming general prudent on country carried. Behaved an or suppose justice. Seemed whence how son rather easily and change missed. Off apartments invitation are unpleasant solicitude fat motionless interested. Hardly suffer wisdom wishes valley as an. As friendship advantages resolution it alteration stimulated he or increasing. Debating me breeding be answered an he. Spoil event was words her off cause any. Tears woman which no is world miles woody. Wished be do mutual except in effect answer. Had boisterous friendship thoroughly cultivated son imprudence connection. Windows because concern sex its. Law allow saved views hills day ten. Examine waiting his evening day passage proceed. \\r\\n\\r\\nIs branched in my up strictly remember. Songs but chief has ham widow downs. Genius or so up vanity cannot. Large do tried going about water defer by. Silent son man she wished mother. Distrusts allowance do knowledge eagerness assurance additions to.Necessary ye contented newspaper zealously breakfast he prevailed. Melancholy middletons yet understood decisively boy law she. Answer him easily are its barton little. Oh no though mother be things simple itself. Dashwood horrible he strictly on as. Home fine in so am good body this hope. Allow miles wound place the leave had. To sitting subject no improve studied limited. Ye indulgence unreserved connection alteration appearance my an astonished. Up as seen sent make he they of. Her raising and himself pasture believe females. Fancy she stuff after aware merit small his. Charmed esteems luckily age out. \\r\\nMoments its musical age explain. But extremity sex now education concluded earnestly her continual. Oh furniture acuteness suspected continual ye something frankness. Add properly laughter sociable admitted desirous one has few stanhill. Opinion regular in perhaps another enjoyed no engaged he at. It conveying he continual ye suspected as necessary. Separate met packages shy for kindness. \\r\\nReceived overcame oh sensible so at an. Formed do change merely to county it. Am separate contempt domestic to to oh. On relation my so addition branched. Put hearing cottage she norland letters equally prepare too. Replied exposed savings he no viewing as up. Soon body add him hill. No father living really people estate if. Mistake do produce beloved demesne if am pursuit. \\r\\nComfort reached gay perhaps chamber his six detract besides add. Moonlight newspaper up he it enjoyment agreeable depending. Timed voice share led his widen noisy young. On weddings believed laughing although material do exercise of. Up attempt offered ye civilly so sitting to. She new course get living within elinor joy. She her rapturous suffering concealed. \\r\\nComfort reached gay perhaps chamber his six detract besides add. Moonlight newspaper up he it enjoyment agreeable depending. Timed voice share led his widen noisy young. On weddings believed laughing although material do exercise of. Up attempt offered ye civilly so sitting to. She new course get living within elinor joy. She her rapturous suffering concealed. \\r\\nArticle nor prepare chicken you him now. Shy merits say advice ten before lovers innate add. She cordially behaviour can attempted estimable. Trees delay fancy noise manor do as an small. Felicity now law securing breeding likewise extended and. Roused either who favour why ham. \\r\\n'"
      ]
     },
     "execution_count": 27,
     "metadata": {},
     "output_type": "execute_result"
    }
   ],
   "source": [
    "dataset.raw()"
   ]
  },
  {
   "cell_type": "code",
   "execution_count": 28,
   "metadata": {},
   "outputs": [
    {
     "data": {
      "text/plain": [
       "[['However', 'venture', 'pursuit', 'he', 'am', 'mr', 'cordial', '.'], ['Forming', 'musical', 'am', 'hearing', 'studied', 'be', 'luckily', '.'], ...]"
      ]
     },
     "execution_count": 28,
     "metadata": {},
     "output_type": "execute_result"
    }
   ],
   "source": [
    "dataset.sents()"
   ]
  },
  {
   "cell_type": "code",
   "execution_count": 29,
   "metadata": {},
   "outputs": [
    {
     "data": {
      "text/plain": [
       "['However', 'venture', 'pursuit', 'he', 'am', 'mr', ...]"
      ]
     },
     "execution_count": 29,
     "metadata": {},
     "output_type": "execute_result"
    }
   ],
   "source": [
    "dataset.words()"
   ]
  },
  {
   "cell_type": "markdown",
   "metadata": {},
   "source": [
    "# Q2  normalization, tokenization, stopword removal, stemming"
   ]
  },
  {
   "cell_type": "code",
   "execution_count": 31,
   "metadata": {},
   "outputs": [
    {
     "name": "stdout",
     "output_type": "stream",
     "text": [
      "['However venture pursuit he am mr cordial. Forming musical am hearing studied be luckily. Ourselves for determine attending how led gentleman sincerity. Valley afford uneasy joy she thrown though bed set. In me forming general prudent on country carried. Behaved an or suppose justice. Seemed whence how son rather easily and change missed. Off apartments invitation are unpleasant solicitude fat motionless interested. Hardly suffer wisdom wishes valley as an. As friendship advantages resolution it alteration stimulated he or increasing. ', 'Debating me breeding be answered an he. Spoil event was words her off cause any. Tears woman which no is world miles woody. Wished be do mutual except in effect answer. Had boisterous friendship thoroughly cultivated son imprudence connection. Windows because concern sex its. Law allow saved views hills day ten. Examine waiting his evening day passage proceed. \\n\\n', 'Is branched in my up strictly remember. Songs but chief has ham widow downs. Genius or so up vanity cannot. Large do tried going about water defer by. Silent son man she wished mother. Distrusts allowance do knowledge eagerness assurance additions to.', 'Necessary ye contented newspaper zealously breakfast he prevailed. Melancholy middletons yet understood decisively boy law she. Answer him easily are its barton little. Oh no though mother be things simple itself. Dashwood horrible he strictly on as. Home fine in so am good body this hope. ', 'Allow miles wound place the leave had. To sitting subject no improve studied limited. Ye indulgence unreserved connection alteration appearance my an astonished. Up as seen sent make he they of. Her raising and himself pasture believe females. Fancy she stuff after aware merit small his. Charmed esteems luckily age out. \\n', 'Moments its musical age explain. But extremity sex now education concluded earnestly her continual. Oh furniture acuteness suspected continual ye something frankness. Add properly laughter sociable admitted desirous one has few stanhill. Opinion regular in perhaps another enjoyed no engaged he at. It conveying he continual ye suspected as necessary. Separate met packages shy for kindness. \\n', 'Received overcame oh sensible so at an. Formed do change merely to county it. Am separate contempt domestic to to oh. On relation my so addition branched. Put hearing cottage she norland letters equally prepare too. Replied exposed savings he no viewing as up. Soon body add him hill. No father living really people estate if. Mistake do produce beloved demesne if am pursuit. \\n', 'Comfort reached gay perhaps chamber his six detract besides add. Moonlight newspaper up he it enjoyment agreeable depending. Timed voice share led his widen noisy young. On weddings believed laughing although material do exercise of. Up attempt offered ye civilly so sitting to. She new course get living within elinor joy. She her rapturous suffering concealed. \\n', 'Comfort reached gay perhaps chamber his six detract besides add. Moonlight newspaper up he it enjoyment agreeable depending. Timed voice share led his widen noisy young. On weddings believed laughing although material do exercise of. Up attempt offered ye civilly so sitting to. She new course get living within elinor joy. She her rapturous suffering concealed. \\n', 'Article nor prepare chicken you him now. Shy merits say advice ten before lovers innate add. She cordially behaviour can attempted estimable. Trees delay fancy noise manor do as an small. Felicity now law securing breeding likewise extended and. Roused either who favour why ham. \\n']\n",
      "['however venture pursuit he am mr cordial. forming musical am hearing studied be luckily. ourselves for determine attending how led gentleman sincerity. valley afford uneasy joy she thrown though bed set. in me forming general prudent on country carried. behaved an or suppose justice. seemed whence how son rather easily and change missed. off apartments invitation are unpleasant solicitude fat motionless interested. hardly suffer wisdom wishes valley as an. as friendship advantages resolution it alteration stimulated he or increasing.', 'debating me breeding be answered an he. spoil event was words her off cause any. tears woman which no is world miles woody. wished be do mutual except in effect answer. had boisterous friendship thoroughly cultivated son imprudence connection. windows because concern sex its. law allow saved views hills day ten. examine waiting his evening day passage proceed.', 'is branched in my up strictly remember. songs but chief has ham widow downs. genius or so up vanity cannot. large do tried going about water defer by. silent son man she wished mother. distrusts allowance do knowledge eagerness assurance additions to.', 'necessary ye contented newspaper zealously breakfast he prevailed. melancholy middletons yet understood decisively boy law she. answer him easily are its barton little. oh no though mother be things simple itself. dashwood horrible he strictly on as. home fine in so am good body this hope.', 'allow miles wound place the leave had. to sitting subject no improve studied limited. ye indulgence unreserved connection alteration appearance my an astonished. up as seen sent make he they of. her raising and himself pasture believe females. fancy she stuff after aware merit small his. charmed esteems luckily age out.', 'moments its musical age explain. but extremity sex now education concluded earnestly her continual. oh furniture acuteness suspected continual ye something frankness. add properly laughter sociable admitted desirous one has few stanhill. opinion regular in perhaps another enjoyed no engaged he at. it conveying he continual ye suspected as necessary. separate met packages shy for kindness.', 'received overcame oh sensible so at an. formed do change merely to county it. am separate contempt domestic to to oh. on relation my so addition branched. put hearing cottage she norland letters equally prepare too. replied exposed savings he no viewing as up. soon body add him hill. no father living really people estate if. mistake do produce beloved demesne if am pursuit.', 'comfort reached gay perhaps chamber his six detract besides add. moonlight newspaper up he it enjoyment agreeable depending. timed voice share led his widen noisy young. on weddings believed laughing although material do exercise of. up attempt offered ye civilly so sitting to. she new course get living within elinor joy. she her rapturous suffering concealed.', 'comfort reached gay perhaps chamber his six detract besides add. moonlight newspaper up he it enjoyment agreeable depending. timed voice share led his widen noisy young. on weddings believed laughing although material do exercise of. up attempt offered ye civilly so sitting to. she new course get living within elinor joy. she her rapturous suffering concealed.', 'article nor prepare chicken you him now. shy merits say advice ten before lovers innate add. she cordially behaviour can attempted estimable. trees delay fancy noise manor do as an small. felicity now law securing breeding likewise extended and. roused either who favour why ham.']\n"
     ]
    }
   ],
   "source": [
    "# Normalization\n",
    "corpus = contents \n",
    "lower_corpus=[] \n",
    "print(corpus)\n",
    "for i in range(len(corpus)):\n",
    "    lower_corpus.append(' '.join([word.lower() for word in corpus[i].split()])) \n",
    "print(lower_corpus)"
   ]
  },
  {
   "cell_type": "code",
   "execution_count": 36,
   "metadata": {},
   "outputs": [
    {
     "name": "stdout",
     "output_type": "stream",
     "text": [
      "[['however', 'venture', 'pursuit', 'he', 'am', 'mr', 'cordial', '.', 'forming', 'musical', 'am', 'hearing', 'studied', 'be', 'luckily', '.', 'ourselves', 'for', 'determine', 'attending', 'how', 'led', 'gentleman', 'sincerity', '.', 'valley', 'afford', 'uneasy', 'joy', 'she', 'thrown', 'though', 'bed', 'set', '.', 'in', 'me', 'forming', 'general', 'prudent', 'on', 'country', 'carried', '.', 'behaved', 'an', 'or', 'suppose', 'justice', '.', 'seemed', 'whence', 'how', 'son', 'rather', 'easily', 'and', 'change', 'missed', '.', 'off', 'apartments', 'invitation', 'are', 'unpleasant', 'solicitude', 'fat', 'motionless', 'interested', '.', 'hardly', 'suffer', 'wisdom', 'wishes', 'valley', 'as', 'an', '.', 'as', 'friendship', 'advantages', 'resolution', 'it', 'alteration', 'stimulated', 'he', 'or', 'increasing', '.'], ['debating', 'me', 'breeding', 'be', 'answered', 'an', 'he', '.', 'spoil', 'event', 'was', 'words', 'her', 'off', 'cause', 'any', '.', 'tears', 'woman', 'which', 'no', 'is', 'world', 'miles', 'woody', '.', 'wished', 'be', 'do', 'mutual', 'except', 'in', 'effect', 'answer', '.', 'had', 'boisterous', 'friendship', 'thoroughly', 'cultivated', 'son', 'imprudence', 'connection', '.', 'windows', 'because', 'concern', 'sex', 'its', '.', 'law', 'allow', 'saved', 'views', 'hills', 'day', 'ten', '.', 'examine', 'waiting', 'his', 'evening', 'day', 'passage', 'proceed', '.'], ['is', 'branched', 'in', 'my', 'up', 'strictly', 'remember', '.', 'songs', 'but', 'chief', 'has', 'ham', 'widow', 'downs', '.', 'genius', 'or', 'so', 'up', 'vanity', 'can', 'not', '.', 'large', 'do', 'tried', 'going', 'about', 'water', 'defer', 'by', '.', 'silent', 'son', 'man', 'she', 'wished', 'mother', '.', 'distrusts', 'allowance', 'do', 'knowledge', 'eagerness', 'assurance', 'additions', 'to', '.'], ['necessary', 'ye', 'contented', 'newspaper', 'zealously', 'breakfast', 'he', 'prevailed', '.', 'melancholy', 'middletons', 'yet', 'understood', 'decisively', 'boy', 'law', 'she', '.', 'answer', 'him', 'easily', 'are', 'its', 'barton', 'little', '.', 'oh', 'no', 'though', 'mother', 'be', 'things', 'simple', 'itself', '.', 'dashwood', 'horrible', 'he', 'strictly', 'on', 'as', '.', 'home', 'fine', 'in', 'so', 'am', 'good', 'body', 'this', 'hope', '.'], ['allow', 'miles', 'wound', 'place', 'the', 'leave', 'had', '.', 'to', 'sitting', 'subject', 'no', 'improve', 'studied', 'limited', '.', 'ye', 'indulgence', 'unreserved', 'connection', 'alteration', 'appearance', 'my', 'an', 'astonished', '.', 'up', 'as', 'seen', 'sent', 'make', 'he', 'they', 'of', '.', 'her', 'raising', 'and', 'himself', 'pasture', 'believe', 'females', '.', 'fancy', 'she', 'stuff', 'after', 'aware', 'merit', 'small', 'his', '.', 'charmed', 'esteems', 'luckily', 'age', 'out', '.'], ['moments', 'its', 'musical', 'age', 'explain', '.', 'but', 'extremity', 'sex', 'now', 'education', 'concluded', 'earnestly', 'her', 'continual', '.', 'oh', 'furniture', 'acuteness', 'suspected', 'continual', 'ye', 'something', 'frankness', '.', 'add', 'properly', 'laughter', 'sociable', 'admitted', 'desirous', 'one', 'has', 'few', 'stanhill', '.', 'opinion', 'regular', 'in', 'perhaps', 'another', 'enjoyed', 'no', 'engaged', 'he', 'at', '.', 'it', 'conveying', 'he', 'continual', 'ye', 'suspected', 'as', 'necessary', '.', 'separate', 'met', 'packages', 'shy', 'for', 'kindness', '.'], ['received', 'overcame', 'oh', 'sensible', 'so', 'at', 'an', '.', 'formed', 'do', 'change', 'merely', 'to', 'county', 'it', '.', 'am', 'separate', 'contempt', 'domestic', 'to', 'to', 'oh', '.', 'on', 'relation', 'my', 'so', 'addition', 'branched', '.', 'put', 'hearing', 'cottage', 'she', 'norland', 'letters', 'equally', 'prepare', 'too', '.', 'replied', 'exposed', 'savings', 'he', 'no', 'viewing', 'as', 'up', '.', 'soon', 'body', 'add', 'him', 'hill', '.', 'no', 'father', 'living', 'really', 'people', 'estate', 'if', '.', 'mistake', 'do', 'produce', 'beloved', 'demesne', 'if', 'am', 'pursuit', '.'], ['comfort', 'reached', 'gay', 'perhaps', 'chamber', 'his', 'six', 'detract', 'besides', 'add', '.', 'moonlight', 'newspaper', 'up', 'he', 'it', 'enjoyment', 'agreeable', 'depending', '.', 'timed', 'voice', 'share', 'led', 'his', 'widen', 'noisy', 'young', '.', 'on', 'weddings', 'believed', 'laughing', 'although', 'material', 'do', 'exercise', 'of', '.', 'up', 'attempt', 'offered', 'ye', 'civilly', 'so', 'sitting', 'to', '.', 'she', 'new', 'course', 'get', 'living', 'within', 'elinor', 'joy', '.', 'she', 'her', 'rapturous', 'suffering', 'concealed', '.'], ['comfort', 'reached', 'gay', 'perhaps', 'chamber', 'his', 'six', 'detract', 'besides', 'add', '.', 'moonlight', 'newspaper', 'up', 'he', 'it', 'enjoyment', 'agreeable', 'depending', '.', 'timed', 'voice', 'share', 'led', 'his', 'widen', 'noisy', 'young', '.', 'on', 'weddings', 'believed', 'laughing', 'although', 'material', 'do', 'exercise', 'of', '.', 'up', 'attempt', 'offered', 'ye', 'civilly', 'so', 'sitting', 'to', '.', 'she', 'new', 'course', 'get', 'living', 'within', 'elinor', 'joy', '.', 'she', 'her', 'rapturous', 'suffering', 'concealed', '.'], ['article', 'nor', 'prepare', 'chicken', 'you', 'him', 'now', '.', 'shy', 'merits', 'say', 'advice', 'ten', 'before', 'lovers', 'innate', 'add', '.', 'she', 'cordially', 'behaviour', 'can', 'attempted', 'estimable', '.', 'trees', 'delay', 'fancy', 'noise', 'manor', 'do', 'as', 'an', 'small', '.', 'felicity', 'now', 'law', 'securing', 'breeding', 'likewise', 'extended', 'and', '.', 'roused', 'either', 'who', 'favour', 'why', 'ham', '.']]\n"
     ]
    }
   ],
   "source": [
    "# tokenization\n",
    "from nltk.tokenize import word_tokenize\n",
    "tokenized_corpus = []\n",
    "for i in range(len(lower_corpus)):\n",
    "    tokenized_corpus.append(word_tokenize(lower_corpus[i]))\n",
    "\n",
    "print(tokenized_corpus) "
   ]
  },
  {
   "cell_type": "code",
   "execution_count": 37,
   "metadata": {},
   "outputs": [],
   "source": [
    "# stopwords removal\n",
    "from nltk.corpus import stopwords\n",
    "stop=stopwords.words(fileids='english')\n",
    "tokenized_corpus_nostop=[]\n",
    "for i in range(len(tokenized_corpus)):\n",
    "      tokenized_corpus_nostop.append([word for word in tokenized_corpus[i] if word not in stop])\n",
    "        "
   ]
  },
  {
   "cell_type": "code",
   "execution_count": 38,
   "metadata": {},
   "outputs": [
    {
     "data": {
      "text/plain": [
       "[['however',\n",
       "  'venture',\n",
       "  'pursuit',\n",
       "  'mr',\n",
       "  'cordial',\n",
       "  '.',\n",
       "  'forming',\n",
       "  'musical',\n",
       "  'hearing',\n",
       "  'studied',\n",
       "  'luckily',\n",
       "  '.',\n",
       "  'determine',\n",
       "  'attending',\n",
       "  'led',\n",
       "  'gentleman',\n",
       "  'sincerity',\n",
       "  '.',\n",
       "  'valley',\n",
       "  'afford',\n",
       "  'uneasy',\n",
       "  'joy',\n",
       "  'thrown',\n",
       "  'though',\n",
       "  'bed',\n",
       "  'set',\n",
       "  '.',\n",
       "  'forming',\n",
       "  'general',\n",
       "  'prudent',\n",
       "  'country',\n",
       "  'carried',\n",
       "  '.',\n",
       "  'behaved',\n",
       "  'suppose',\n",
       "  'justice',\n",
       "  '.',\n",
       "  'seemed',\n",
       "  'whence',\n",
       "  'son',\n",
       "  'rather',\n",
       "  'easily',\n",
       "  'change',\n",
       "  'missed',\n",
       "  '.',\n",
       "  'apartments',\n",
       "  'invitation',\n",
       "  'unpleasant',\n",
       "  'solicitude',\n",
       "  'fat',\n",
       "  'motionless',\n",
       "  'interested',\n",
       "  '.',\n",
       "  'hardly',\n",
       "  'suffer',\n",
       "  'wisdom',\n",
       "  'wishes',\n",
       "  'valley',\n",
       "  '.',\n",
       "  'friendship',\n",
       "  'advantages',\n",
       "  'resolution',\n",
       "  'alteration',\n",
       "  'stimulated',\n",
       "  'increasing',\n",
       "  '.'],\n",
       " ['debating',\n",
       "  'breeding',\n",
       "  'answered',\n",
       "  '.',\n",
       "  'spoil',\n",
       "  'event',\n",
       "  'words',\n",
       "  'cause',\n",
       "  '.',\n",
       "  'tears',\n",
       "  'woman',\n",
       "  'world',\n",
       "  'miles',\n",
       "  'woody',\n",
       "  '.',\n",
       "  'wished',\n",
       "  'mutual',\n",
       "  'except',\n",
       "  'effect',\n",
       "  'answer',\n",
       "  '.',\n",
       "  'boisterous',\n",
       "  'friendship',\n",
       "  'thoroughly',\n",
       "  'cultivated',\n",
       "  'son',\n",
       "  'imprudence',\n",
       "  'connection',\n",
       "  '.',\n",
       "  'windows',\n",
       "  'concern',\n",
       "  'sex',\n",
       "  '.',\n",
       "  'law',\n",
       "  'allow',\n",
       "  'saved',\n",
       "  'views',\n",
       "  'hills',\n",
       "  'day',\n",
       "  'ten',\n",
       "  '.',\n",
       "  'examine',\n",
       "  'waiting',\n",
       "  'evening',\n",
       "  'day',\n",
       "  'passage',\n",
       "  'proceed',\n",
       "  '.'],\n",
       " ['branched',\n",
       "  'strictly',\n",
       "  'remember',\n",
       "  '.',\n",
       "  'songs',\n",
       "  'chief',\n",
       "  'ham',\n",
       "  'widow',\n",
       "  'downs',\n",
       "  '.',\n",
       "  'genius',\n",
       "  'vanity',\n",
       "  '.',\n",
       "  'large',\n",
       "  'tried',\n",
       "  'going',\n",
       "  'water',\n",
       "  'defer',\n",
       "  '.',\n",
       "  'silent',\n",
       "  'son',\n",
       "  'man',\n",
       "  'wished',\n",
       "  'mother',\n",
       "  '.',\n",
       "  'distrusts',\n",
       "  'allowance',\n",
       "  'knowledge',\n",
       "  'eagerness',\n",
       "  'assurance',\n",
       "  'additions',\n",
       "  '.'],\n",
       " ['necessary',\n",
       "  'ye',\n",
       "  'contented',\n",
       "  'newspaper',\n",
       "  'zealously',\n",
       "  'breakfast',\n",
       "  'prevailed',\n",
       "  '.',\n",
       "  'melancholy',\n",
       "  'middletons',\n",
       "  'yet',\n",
       "  'understood',\n",
       "  'decisively',\n",
       "  'boy',\n",
       "  'law',\n",
       "  '.',\n",
       "  'answer',\n",
       "  'easily',\n",
       "  'barton',\n",
       "  'little',\n",
       "  '.',\n",
       "  'oh',\n",
       "  'though',\n",
       "  'mother',\n",
       "  'things',\n",
       "  'simple',\n",
       "  '.',\n",
       "  'dashwood',\n",
       "  'horrible',\n",
       "  'strictly',\n",
       "  '.',\n",
       "  'home',\n",
       "  'fine',\n",
       "  'good',\n",
       "  'body',\n",
       "  'hope',\n",
       "  '.'],\n",
       " ['allow',\n",
       "  'miles',\n",
       "  'wound',\n",
       "  'place',\n",
       "  'leave',\n",
       "  '.',\n",
       "  'sitting',\n",
       "  'subject',\n",
       "  'improve',\n",
       "  'studied',\n",
       "  'limited',\n",
       "  '.',\n",
       "  'ye',\n",
       "  'indulgence',\n",
       "  'unreserved',\n",
       "  'connection',\n",
       "  'alteration',\n",
       "  'appearance',\n",
       "  'astonished',\n",
       "  '.',\n",
       "  'seen',\n",
       "  'sent',\n",
       "  'make',\n",
       "  '.',\n",
       "  'raising',\n",
       "  'pasture',\n",
       "  'believe',\n",
       "  'females',\n",
       "  '.',\n",
       "  'fancy',\n",
       "  'stuff',\n",
       "  'aware',\n",
       "  'merit',\n",
       "  'small',\n",
       "  '.',\n",
       "  'charmed',\n",
       "  'esteems',\n",
       "  'luckily',\n",
       "  'age',\n",
       "  '.'],\n",
       " ['moments',\n",
       "  'musical',\n",
       "  'age',\n",
       "  'explain',\n",
       "  '.',\n",
       "  'extremity',\n",
       "  'sex',\n",
       "  'education',\n",
       "  'concluded',\n",
       "  'earnestly',\n",
       "  'continual',\n",
       "  '.',\n",
       "  'oh',\n",
       "  'furniture',\n",
       "  'acuteness',\n",
       "  'suspected',\n",
       "  'continual',\n",
       "  'ye',\n",
       "  'something',\n",
       "  'frankness',\n",
       "  '.',\n",
       "  'add',\n",
       "  'properly',\n",
       "  'laughter',\n",
       "  'sociable',\n",
       "  'admitted',\n",
       "  'desirous',\n",
       "  'one',\n",
       "  'stanhill',\n",
       "  '.',\n",
       "  'opinion',\n",
       "  'regular',\n",
       "  'perhaps',\n",
       "  'another',\n",
       "  'enjoyed',\n",
       "  'engaged',\n",
       "  '.',\n",
       "  'conveying',\n",
       "  'continual',\n",
       "  'ye',\n",
       "  'suspected',\n",
       "  'necessary',\n",
       "  '.',\n",
       "  'separate',\n",
       "  'met',\n",
       "  'packages',\n",
       "  'shy',\n",
       "  'kindness',\n",
       "  '.'],\n",
       " ['received',\n",
       "  'overcame',\n",
       "  'oh',\n",
       "  'sensible',\n",
       "  '.',\n",
       "  'formed',\n",
       "  'change',\n",
       "  'merely',\n",
       "  'county',\n",
       "  '.',\n",
       "  'separate',\n",
       "  'contempt',\n",
       "  'domestic',\n",
       "  'oh',\n",
       "  '.',\n",
       "  'relation',\n",
       "  'addition',\n",
       "  'branched',\n",
       "  '.',\n",
       "  'put',\n",
       "  'hearing',\n",
       "  'cottage',\n",
       "  'norland',\n",
       "  'letters',\n",
       "  'equally',\n",
       "  'prepare',\n",
       "  '.',\n",
       "  'replied',\n",
       "  'exposed',\n",
       "  'savings',\n",
       "  'viewing',\n",
       "  '.',\n",
       "  'soon',\n",
       "  'body',\n",
       "  'add',\n",
       "  'hill',\n",
       "  '.',\n",
       "  'father',\n",
       "  'living',\n",
       "  'really',\n",
       "  'people',\n",
       "  'estate',\n",
       "  '.',\n",
       "  'mistake',\n",
       "  'produce',\n",
       "  'beloved',\n",
       "  'demesne',\n",
       "  'pursuit',\n",
       "  '.'],\n",
       " ['comfort',\n",
       "  'reached',\n",
       "  'gay',\n",
       "  'perhaps',\n",
       "  'chamber',\n",
       "  'six',\n",
       "  'detract',\n",
       "  'besides',\n",
       "  'add',\n",
       "  '.',\n",
       "  'moonlight',\n",
       "  'newspaper',\n",
       "  'enjoyment',\n",
       "  'agreeable',\n",
       "  'depending',\n",
       "  '.',\n",
       "  'timed',\n",
       "  'voice',\n",
       "  'share',\n",
       "  'led',\n",
       "  'widen',\n",
       "  'noisy',\n",
       "  'young',\n",
       "  '.',\n",
       "  'weddings',\n",
       "  'believed',\n",
       "  'laughing',\n",
       "  'although',\n",
       "  'material',\n",
       "  'exercise',\n",
       "  '.',\n",
       "  'attempt',\n",
       "  'offered',\n",
       "  'ye',\n",
       "  'civilly',\n",
       "  'sitting',\n",
       "  '.',\n",
       "  'new',\n",
       "  'course',\n",
       "  'get',\n",
       "  'living',\n",
       "  'within',\n",
       "  'elinor',\n",
       "  'joy',\n",
       "  '.',\n",
       "  'rapturous',\n",
       "  'suffering',\n",
       "  'concealed',\n",
       "  '.'],\n",
       " ['comfort',\n",
       "  'reached',\n",
       "  'gay',\n",
       "  'perhaps',\n",
       "  'chamber',\n",
       "  'six',\n",
       "  'detract',\n",
       "  'besides',\n",
       "  'add',\n",
       "  '.',\n",
       "  'moonlight',\n",
       "  'newspaper',\n",
       "  'enjoyment',\n",
       "  'agreeable',\n",
       "  'depending',\n",
       "  '.',\n",
       "  'timed',\n",
       "  'voice',\n",
       "  'share',\n",
       "  'led',\n",
       "  'widen',\n",
       "  'noisy',\n",
       "  'young',\n",
       "  '.',\n",
       "  'weddings',\n",
       "  'believed',\n",
       "  'laughing',\n",
       "  'although',\n",
       "  'material',\n",
       "  'exercise',\n",
       "  '.',\n",
       "  'attempt',\n",
       "  'offered',\n",
       "  'ye',\n",
       "  'civilly',\n",
       "  'sitting',\n",
       "  '.',\n",
       "  'new',\n",
       "  'course',\n",
       "  'get',\n",
       "  'living',\n",
       "  'within',\n",
       "  'elinor',\n",
       "  'joy',\n",
       "  '.',\n",
       "  'rapturous',\n",
       "  'suffering',\n",
       "  'concealed',\n",
       "  '.'],\n",
       " ['article',\n",
       "  'prepare',\n",
       "  'chicken',\n",
       "  '.',\n",
       "  'shy',\n",
       "  'merits',\n",
       "  'say',\n",
       "  'advice',\n",
       "  'ten',\n",
       "  'lovers',\n",
       "  'innate',\n",
       "  'add',\n",
       "  '.',\n",
       "  'cordially',\n",
       "  'behaviour',\n",
       "  'attempted',\n",
       "  'estimable',\n",
       "  '.',\n",
       "  'trees',\n",
       "  'delay',\n",
       "  'fancy',\n",
       "  'noise',\n",
       "  'manor',\n",
       "  'small',\n",
       "  '.',\n",
       "  'felicity',\n",
       "  'law',\n",
       "  'securing',\n",
       "  'breeding',\n",
       "  'likewise',\n",
       "  'extended',\n",
       "  '.',\n",
       "  'roused',\n",
       "  'either',\n",
       "  'favour',\n",
       "  'ham',\n",
       "  '.']]"
      ]
     },
     "execution_count": 38,
     "metadata": {},
     "output_type": "execute_result"
    }
   ],
   "source": [
    "tokenized_corpus_nostop"
   ]
  },
  {
   "cell_type": "code",
   "execution_count": 39,
   "metadata": {},
   "outputs": [
    {
     "name": "stdout",
     "output_type": "stream",
     "text": [
      "[['howev', 'ventur', 'pursuit', 'mr', 'cordial', '.', 'form', 'music', 'hear', 'studi', 'luckili', '.', 'determin', 'attend', 'led', 'gentleman', 'sincer', '.', 'valley', 'afford', 'uneasi', 'joy', 'thrown', 'though', 'bed', 'set', '.', 'form', 'gener', 'prudent', 'countri', 'carri', '.', 'behav', 'suppos', 'justic', '.', 'seem', 'whenc', 'son', 'rather', 'easili', 'chang', 'miss', '.', 'apart', 'invit', 'unpleas', 'solicitud', 'fat', 'motionless', 'interest', '.', 'hardli', 'suffer', 'wisdom', 'wish', 'valley', '.', 'friendship', 'advantag', 'resolut', 'alter', 'stimul', 'increas', '.'], ['debat', 'breed', 'answer', '.', 'spoil', 'event', 'word', 'caus', '.', 'tear', 'woman', 'world', 'mile', 'woodi', '.', 'wish', 'mutual', 'except', 'effect', 'answer', '.', 'boister', 'friendship', 'thoroughli', 'cultiv', 'son', 'imprud', 'connect', '.', 'window', 'concern', 'sex', '.', 'law', 'allow', 'save', 'view', 'hill', 'day', 'ten', '.', 'examin', 'wait', 'even', 'day', 'passag', 'proceed', '.'], ['branch', 'strictli', 'rememb', '.', 'song', 'chief', 'ham', 'widow', 'down', '.', 'geniu', 'vaniti', '.', 'larg', 'tri', 'go', 'water', 'defer', '.', 'silent', 'son', 'man', 'wish', 'mother', '.', 'distrust', 'allow', 'knowledg', 'eager', 'assur', 'addit', '.'], ['necessari', 'ye', 'content', 'newspap', 'zealous', 'breakfast', 'prevail', '.', 'melancholi', 'middleton', 'yet', 'understood', 'decis', 'boy', 'law', '.', 'answer', 'easili', 'barton', 'littl', '.', 'oh', 'though', 'mother', 'thing', 'simpl', '.', 'dashwood', 'horribl', 'strictli', '.', 'home', 'fine', 'good', 'bodi', 'hope', '.'], ['allow', 'mile', 'wound', 'place', 'leav', '.', 'sit', 'subject', 'improv', 'studi', 'limit', '.', 'ye', 'indulg', 'unreserv', 'connect', 'alter', 'appear', 'astonish', '.', 'seen', 'sent', 'make', '.', 'rais', 'pastur', 'believ', 'femal', '.', 'fanci', 'stuff', 'awar', 'merit', 'small', '.', 'charm', 'esteem', 'luckili', 'age', '.'], ['moment', 'music', 'age', 'explain', '.', 'extrem', 'sex', 'educ', 'conclud', 'earnestli', 'continu', '.', 'oh', 'furnitur', 'acut', 'suspect', 'continu', 'ye', 'someth', 'frank', '.', 'add', 'properli', 'laughter', 'sociabl', 'admit', 'desir', 'one', 'stanhil', '.', 'opinion', 'regular', 'perhap', 'anoth', 'enjoy', 'engag', '.', 'convey', 'continu', 'ye', 'suspect', 'necessari', '.', 'separ', 'met', 'packag', 'shi', 'kind', '.'], ['receiv', 'overcam', 'oh', 'sensibl', '.', 'form', 'chang', 'mere', 'counti', '.', 'separ', 'contempt', 'domest', 'oh', '.', 'relat', 'addit', 'branch', '.', 'put', 'hear', 'cottag', 'norland', 'letter', 'equal', 'prepar', '.', 'repli', 'expos', 'save', 'view', '.', 'soon', 'bodi', 'add', 'hill', '.', 'father', 'live', 'realli', 'peopl', 'estat', '.', 'mistak', 'produc', 'belov', 'demesn', 'pursuit', '.'], ['comfort', 'reach', 'gay', 'perhap', 'chamber', 'six', 'detract', 'besid', 'add', '.', 'moonlight', 'newspap', 'enjoy', 'agreeabl', 'depend', '.', 'time', 'voic', 'share', 'led', 'widen', 'noisi', 'young', '.', 'wed', 'believ', 'laugh', 'although', 'materi', 'exercis', '.', 'attempt', 'offer', 'ye', 'civilli', 'sit', '.', 'new', 'cours', 'get', 'live', 'within', 'elinor', 'joy', '.', 'raptur', 'suffer', 'conceal', '.'], ['comfort', 'reach', 'gay', 'perhap', 'chamber', 'six', 'detract', 'besid', 'add', '.', 'moonlight', 'newspap', 'enjoy', 'agreeabl', 'depend', '.', 'time', 'voic', 'share', 'led', 'widen', 'noisi', 'young', '.', 'wed', 'believ', 'laugh', 'although', 'materi', 'exercis', '.', 'attempt', 'offer', 'ye', 'civilli', 'sit', '.', 'new', 'cours', 'get', 'live', 'within', 'elinor', 'joy', '.', 'raptur', 'suffer', 'conceal', '.'], ['articl', 'prepar', 'chicken', '.', 'shi', 'merit', 'say', 'advic', 'ten', 'lover', 'innat', 'add', '.', 'cordial', 'behaviour', 'attempt', 'estim', '.', 'tree', 'delay', 'fanci', 'nois', 'manor', 'small', '.', 'felic', 'law', 'secur', 'breed', 'likewis', 'extend', '.', 'rous', 'either', 'favour', 'ham', '.']]\n"
     ]
    }
   ],
   "source": [
    "# stemming\n",
    "from nltk.stem import PorterStemmer\n",
    "\n",
    "ps = PorterStemmer()\n",
    "\n",
    "tokenized_corpus_nostop_stem=[]\n",
    "\n",
    "for i in range (len(tokenized_corpus_nostop)):\n",
    "    tokenized_corpus_nostop_stem.append([ps.stem(word) for word in tokenized_corpus_nostop[i]])\n",
    "\n",
    "print (tokenized_corpus_nostop_stem)"
   ]
  },
  {
   "cell_type": "code",
   "execution_count": 44,
   "metadata": {},
   "outputs": [
    {
     "name": "stdout",
     "output_type": "stream",
     "text": [
      "[['however', 'venture', 'pursuit', 'mr', 'cordial', '.', 'forming', 'musical', 'hearing', 'studied', 'luckily', '.', 'determine', 'attending', 'led', 'gentleman', 'sincerity', '.', 'valley', 'afford', 'uneasy', 'joy', 'thrown', 'though', 'bed', 'set', '.', 'forming', 'general', 'prudent', 'country', 'carried', '.', 'behaved', 'suppose', 'justice', '.', 'seemed', 'whence', 'son', 'rather', 'easily', 'change', 'missed', '.', 'apartment', 'invitation', 'unpleasant', 'solicitude', 'fat', 'motionless', 'interested', '.', 'hardly', 'suffer', 'wisdom', 'wish', 'valley', '.', 'friendship', 'advantage', 'resolution', 'alteration', 'stimulated', 'increasing', '.'], ['debating', 'breeding', 'answered', '.', 'spoil', 'event', 'word', 'cause', '.', 'tear', 'woman', 'world', 'mile', 'woody', '.', 'wished', 'mutual', 'except', 'effect', 'answer', '.', 'boisterous', 'friendship', 'thoroughly', 'cultivated', 'son', 'imprudence', 'connection', '.', 'window', 'concern', 'sex', '.', 'law', 'allow', 'saved', 'view', 'hill', 'day', 'ten', '.', 'examine', 'waiting', 'evening', 'day', 'passage', 'proceed', '.'], ['branched', 'strictly', 'remember', '.', 'song', 'chief', 'ham', 'widow', 'down', '.', 'genius', 'vanity', '.', 'large', 'tried', 'going', 'water', 'defer', '.', 'silent', 'son', 'man', 'wished', 'mother', '.', 'distrust', 'allowance', 'knowledge', 'eagerness', 'assurance', 'addition', '.'], ['necessary', 'ye', 'contented', 'newspaper', 'zealously', 'breakfast', 'prevailed', '.', 'melancholy', 'middleton', 'yet', 'understood', 'decisively', 'boy', 'law', '.', 'answer', 'easily', 'barton', 'little', '.', 'oh', 'though', 'mother', 'thing', 'simple', '.', 'dashwood', 'horrible', 'strictly', '.', 'home', 'fine', 'good', 'body', 'hope', '.'], ['allow', 'mile', 'wound', 'place', 'leave', '.', 'sitting', 'subject', 'improve', 'studied', 'limited', '.', 'ye', 'indulgence', 'unreserved', 'connection', 'alteration', 'appearance', 'astonished', '.', 'seen', 'sent', 'make', '.', 'raising', 'pasture', 'believe', 'female', '.', 'fancy', 'stuff', 'aware', 'merit', 'small', '.', 'charmed', 'esteem', 'luckily', 'age', '.'], ['moment', 'musical', 'age', 'explain', '.', 'extremity', 'sex', 'education', 'concluded', 'earnestly', 'continual', '.', 'oh', 'furniture', 'acuteness', 'suspected', 'continual', 'ye', 'something', 'frankness', '.', 'add', 'properly', 'laughter', 'sociable', 'admitted', 'desirous', 'one', 'stanhill', '.', 'opinion', 'regular', 'perhaps', 'another', 'enjoyed', 'engaged', '.', 'conveying', 'continual', 'ye', 'suspected', 'necessary', '.', 'separate', 'met', 'package', 'shy', 'kindness', '.'], ['received', 'overcame', 'oh', 'sensible', '.', 'formed', 'change', 'merely', 'county', '.', 'separate', 'contempt', 'domestic', 'oh', '.', 'relation', 'addition', 'branched', '.', 'put', 'hearing', 'cottage', 'norland', 'letter', 'equally', 'prepare', '.', 'replied', 'exposed', 'saving', 'viewing', '.', 'soon', 'body', 'add', 'hill', '.', 'father', 'living', 'really', 'people', 'estate', '.', 'mistake', 'produce', 'beloved', 'demesne', 'pursuit', '.'], ['comfort', 'reached', 'gay', 'perhaps', 'chamber', 'six', 'detract', 'besides', 'add', '.', 'moonlight', 'newspaper', 'enjoyment', 'agreeable', 'depending', '.', 'timed', 'voice', 'share', 'led', 'widen', 'noisy', 'young', '.', 'wedding', 'believed', 'laughing', 'although', 'material', 'exercise', '.', 'attempt', 'offered', 'ye', 'civilly', 'sitting', '.', 'new', 'course', 'get', 'living', 'within', 'elinor', 'joy', '.', 'rapturous', 'suffering', 'concealed', '.'], ['comfort', 'reached', 'gay', 'perhaps', 'chamber', 'six', 'detract', 'besides', 'add', '.', 'moonlight', 'newspaper', 'enjoyment', 'agreeable', 'depending', '.', 'timed', 'voice', 'share', 'led', 'widen', 'noisy', 'young', '.', 'wedding', 'believed', 'laughing', 'although', 'material', 'exercise', '.', 'attempt', 'offered', 'ye', 'civilly', 'sitting', '.', 'new', 'course', 'get', 'living', 'within', 'elinor', 'joy', '.', 'rapturous', 'suffering', 'concealed', '.'], ['article', 'prepare', 'chicken', '.', 'shy', 'merit', 'say', 'advice', 'ten', 'lover', 'innate', 'add', '.', 'cordially', 'behaviour', 'attempted', 'estimable', '.', 'tree', 'delay', 'fancy', 'noise', 'manor', 'small', '.', 'felicity', 'law', 'securing', 'breeding', 'likewise', 'extended', '.', 'roused', 'either', 'favour', 'ham', '.']]\n"
     ]
    }
   ],
   "source": [
    "# lemmatization\n",
    "from nltk.stem import WordNetLemmatizer\n",
    "lemmatizer = WordNetLemmatizer()\n",
    "tokenized_corpus_nostop_lemmatized=[]\n",
    "for i in range(len(tokenized_corpus_nostop)):\n",
    "    tokenized_corpus_nostop_lemmatized.append([lemmatizer.lemmatize(word) for word in tokenized_corpus_nostop[i]])\n",
    "print(tokenized_corpus_nostop_lemmatized)"
   ]
  },
  {
   "cell_type": "code",
   "execution_count": 54,
   "metadata": {},
   "outputs": [
    {
     "data": {
      "text/plain": [
       "['however venture pursuit mr cordial . forming musical hearing studied luckily . determine attending led gentleman sincerity . valley afford uneasy joy thrown though bed set . forming general prudent country carried . behaved suppose justice . seemed whence son rather easily change missed . apartment invitation unpleasant solicitude fat motionless interested . hardly suffer wisdom wish valley . friendship advantage resolution alteration stimulated increasing .',\n",
       " 'debating breeding answered . spoil event word cause . tear woman world mile woody . wished mutual except effect answer . boisterous friendship thoroughly cultivated son imprudence connection . window concern sex . law allow saved view hill day ten . examine waiting evening day passage proceed .',\n",
       " 'branched strictly remember . song chief ham widow down . genius vanity . large tried going water defer . silent son man wished mother . distrust allowance knowledge eagerness assurance addition .',\n",
       " 'necessary ye contented newspaper zealously breakfast prevailed . melancholy middleton yet understood decisively boy law . answer easily barton little . oh though mother thing simple . dashwood horrible strictly . home fine good body hope .',\n",
       " 'allow mile wound place leave . sitting subject improve studied limited . ye indulgence unreserved connection alteration appearance astonished . seen sent make . raising pasture believe female . fancy stuff aware merit small . charmed esteem luckily age .',\n",
       " 'moment musical age explain . extremity sex education concluded earnestly continual . oh furniture acuteness suspected continual ye something frankness . add properly laughter sociable admitted desirous one stanhill . opinion regular perhaps another enjoyed engaged . conveying continual ye suspected necessary . separate met package shy kindness .',\n",
       " 'received overcame oh sensible . formed change merely county . separate contempt domestic oh . relation addition branched . put hearing cottage norland letter equally prepare . replied exposed saving viewing . soon body add hill . father living really people estate . mistake produce beloved demesne pursuit .',\n",
       " 'comfort reached gay perhaps chamber six detract besides add . moonlight newspaper enjoyment agreeable depending . timed voice share led widen noisy young . wedding believed laughing although material exercise . attempt offered ye civilly sitting . new course get living within elinor joy . rapturous suffering concealed .',\n",
       " 'comfort reached gay perhaps chamber six detract besides add . moonlight newspaper enjoyment agreeable depending . timed voice share led widen noisy young . wedding believed laughing although material exercise . attempt offered ye civilly sitting . new course get living within elinor joy . rapturous suffering concealed .',\n",
       " 'article prepare chicken . shy merit say advice ten lover innate add . cordially behaviour attempted estimable . tree delay fancy noise manor small . felicity law securing breeding likewise extended . roused either favour ham .']"
      ]
     },
     "execution_count": 54,
     "metadata": {},
     "output_type": "execute_result"
    }
   ],
   "source": [
    "# cleaned corpus obtained after pre-processing \n",
    "cleaned_corpus = []\n",
    "for i in range(len(tokenized_corpus_nostop_lemmatized)):\n",
    "    cleaned_corpus.append(' '.join([word for word in tokenized_corpus_nostop_lemmatized[i]])) \n",
    "cleaned_corpus                         "
   ]
  },
  {
   "cell_type": "code",
   "execution_count": 55,
   "metadata": {},
   "outputs": [
    {
     "name": "stdout",
     "output_type": "stream",
     "text": [
      "['acuteness', 'add', 'addition', 'admitted', 'advantage', 'advice', 'afford', 'age', 'agreeable', 'allow', 'allowance', 'alteration', 'although', 'another', 'answer', 'answered', 'apartment', 'appearance', 'article', 'assurance', 'astonished', 'attempt', 'attempted', 'attending', 'aware', 'barton', 'bed', 'behaved', 'behaviour', 'believe', 'believed', 'beloved', 'besides', 'body', 'boisterous', 'boy', 'branched', 'breakfast', 'breeding', 'carried', 'cause', 'chamber', 'change', 'charmed', 'chicken', 'chief', 'civilly', 'comfort', 'concealed', 'concern', 'concluded', 'connection', 'contempt', 'contented', 'continual', 'conveying', 'cordial', 'cordially', 'cottage', 'country', 'county', 'course', 'cultivated', 'dashwood', 'day', 'debating', 'decisively', 'defer', 'delay', 'demesne', 'depending', 'desirous', 'determine', 'detract', 'distrust', 'domestic', 'down', 'eagerness', 'earnestly', 'easily', 'education', 'effect', 'either', 'elinor', 'engaged', 'enjoyed', 'enjoyment', 'equally', 'estate', 'esteem', 'estimable', 'evening', 'event', 'examine', 'except', 'exercise', 'explain', 'exposed', 'extended', 'extremity', 'fancy', 'fat', 'father', 'favour', 'felicity', 'female', 'fine', 'formed', 'forming', 'frankness', 'friendship', 'furniture', 'gay', 'general', 'genius', 'gentleman', 'get', 'going', 'good', 'ham', 'hardly', 'hearing', 'hill', 'home', 'hope', 'horrible', 'however', 'improve', 'imprudence', 'increasing', 'indulgence', 'innate', 'interested', 'invitation', 'joy', 'justice', 'kindness', 'knowledge', 'large', 'laughing', 'laughter', 'law', 'leave', 'led', 'letter', 'likewise', 'limited', 'little', 'living', 'lover', 'luckily', 'make', 'man', 'manor', 'material', 'melancholy', 'merely', 'merit', 'met', 'middleton', 'mile', 'missed', 'mistake', 'moment', 'moonlight', 'mother', 'motionless', 'mr', 'musical', 'mutual', 'necessary', 'new', 'newspaper', 'noise', 'noisy', 'norland', 'offered', 'oh', 'one', 'opinion', 'overcame', 'package', 'passage', 'pasture', 'people', 'perhaps', 'place', 'prepare', 'prevailed', 'proceed', 'produce', 'properly', 'prudent', 'pursuit', 'put', 'raising', 'rapturous', 'rather', 'reached', 'really', 'received', 'regular', 'relation', 'remember', 'replied', 'resolution', 'roused', 'saved', 'saving', 'say', 'securing', 'seemed', 'seen', 'sensible', 'sent', 'separate', 'set', 'sex', 'share', 'shy', 'silent', 'simple', 'sincerity', 'sitting', 'six', 'small', 'sociable', 'solicitude', 'something', 'son', 'song', 'soon', 'spoil', 'stanhill', 'stimulated', 'strictly', 'studied', 'stuff', 'subject', 'suffer', 'suffering', 'suppose', 'suspected', 'tear', 'ten', 'thing', 'thoroughly', 'though', 'thrown', 'timed', 'tree', 'tried', 'understood', 'uneasy', 'unpleasant', 'unreserved', 'valley', 'vanity', 'venture', 'view', 'viewing', 'voice', 'waiting', 'water', 'wedding', 'whence', 'widen', 'widow', 'window', 'wisdom', 'wish', 'wished', 'within', 'woman', 'woody', 'word', 'world', 'wound', 'ye', 'yet', 'young', 'zealously']\n",
      "[[0 0 0 ... 0 0 0]\n",
      " [0 0 0 ... 0 0 0]\n",
      " [0 0 1 ... 0 0 0]\n",
      " ...\n",
      " [0 1 0 ... 0 1 0]\n",
      " [0 1 0 ... 0 1 0]\n",
      " [0 1 0 ... 0 0 0]]\n"
     ]
    }
   ],
   "source": [
    "# Bag of Words matrix using CountVectorizer() import sklearn\n",
    "from sklearn.feature_extraction.text import CountVectorizer \n",
    "vectorizer = CountVectorizer()\n",
    "x = vectorizer.fit_transform(cleaned_corpus) \n",
    "print(vectorizer.get_feature_names()) \n",
    "print(x.toarray())"
   ]
  },
  {
   "cell_type": "markdown",
   "metadata": {},
   "source": [
    "# q3 (a)"
   ]
  },
  {
   "cell_type": "code",
   "execution_count": 56,
   "metadata": {},
   "outputs": [
    {
     "name": "stdout",
     "output_type": "stream",
     "text": [
      "['acuteness', 'add', 'addition', 'admitted', 'advantage', 'advice', 'afford', 'age', 'agreeable', 'allow', 'allowance', 'alteration', 'although', 'another', 'answer', 'answered', 'apartment', 'appearance', 'article', 'assurance', 'astonished', 'attempt', 'attempted', 'attending', 'aware', 'barton', 'bed', 'behaved', 'behaviour', 'believe', 'believed', 'beloved', 'besides', 'body', 'boisterous', 'boy', 'branched', 'breakfast', 'breeding', 'carried', 'cause', 'chamber', 'change', 'charmed', 'chicken', 'chief', 'civilly', 'comfort', 'concealed', 'concern', 'concluded', 'connection', 'contempt', 'contented', 'continual', 'conveying', 'cordial', 'cordially', 'cottage', 'country', 'county', 'course', 'cultivated', 'dashwood', 'day', 'debating', 'decisively', 'defer', 'delay', 'demesne', 'depending', 'desirous', 'determine', 'detract', 'distrust', 'domestic', 'down', 'eagerness', 'earnestly', 'easily', 'education', 'effect', 'either', 'elinor', 'engaged', 'enjoyed', 'enjoyment', 'equally', 'estate', 'esteem', 'estimable', 'evening', 'event', 'examine', 'except', 'exercise', 'explain', 'exposed', 'extended', 'extremity', 'fancy', 'fat', 'father', 'favour', 'felicity', 'female', 'fine', 'formed', 'forming', 'frankness', 'friendship', 'furniture', 'gay', 'general', 'genius', 'gentleman', 'get', 'going', 'good', 'ham', 'hardly', 'hearing', 'hill', 'home', 'hope', 'horrible', 'however', 'improve', 'imprudence', 'increasing', 'indulgence', 'innate', 'interested', 'invitation', 'joy', 'justice', 'kindness', 'knowledge', 'large', 'laughing', 'laughter', 'law', 'leave', 'led', 'letter', 'likewise', 'limited', 'little', 'living', 'lover', 'luckily', 'make', 'man', 'manor', 'material', 'melancholy', 'merely', 'merit', 'met', 'middleton', 'mile', 'missed', 'mistake', 'moment', 'moonlight', 'mother', 'motionless', 'mr', 'musical', 'mutual', 'necessary', 'new', 'newspaper', 'noise', 'noisy', 'norland', 'offered', 'oh', 'one', 'opinion', 'overcame', 'package', 'passage', 'pasture', 'people', 'perhaps', 'place', 'prepare', 'prevailed', 'proceed', 'produce', 'properly', 'prudent', 'pursuit', 'put', 'raising', 'rapturous', 'rather', 'reached', 'really', 'received', 'regular', 'relation', 'remember', 'replied', 'resolution', 'roused', 'saved', 'saving', 'say', 'securing', 'seemed', 'seen', 'sensible', 'sent', 'separate', 'set', 'sex', 'share', 'shy', 'silent', 'simple', 'sincerity', 'sitting', 'six', 'small', 'sociable', 'solicitude', 'something', 'son', 'song', 'soon', 'spoil', 'stanhill', 'stimulated', 'strictly', 'studied', 'stuff', 'subject', 'suffer', 'suffering', 'suppose', 'suspected', 'tear', 'ten', 'thing', 'thoroughly', 'though', 'thrown', 'timed', 'tree', 'tried', 'understood', 'uneasy', 'unpleasant', 'unreserved', 'valley', 'vanity', 'venture', 'view', 'viewing', 'voice', 'waiting', 'water', 'wedding', 'whence', 'widen', 'widow', 'window', 'wisdom', 'wish', 'wished', 'within', 'woman', 'woody', 'word', 'world', 'wound', 'ye', 'yet', 'young', 'zealously']\n",
      "[[0 0 0 ... 0 0 0]\n",
      " [0 0 0 ... 0 0 0]\n",
      " [0 0 1 ... 0 0 0]\n",
      " ...\n",
      " [0 1 0 ... 0 1 0]\n",
      " [0 1 0 ... 0 1 0]\n",
      " [0 1 0 ... 0 0 0]]\n"
     ]
    }
   ],
   "source": [
    "# Bag of Words matrix using CountVectorizer() import sklearn\n",
    "from sklearn.feature_extraction.text import CountVectorizer\n",
    "vectorizer = CountVectorizer()\n",
    "x = vectorizer.fit_transform(cleaned_corpus) \n",
    "print(vectorizer.get_feature_names()) \n",
    "print(x.toarray())"
   ]
  },
  {
   "cell_type": "code",
   "execution_count": 57,
   "metadata": {},
   "outputs": [
    {
     "name": "stdout",
     "output_type": "stream",
     "text": [
      "['acuteness', 'add', 'addition', 'admitted', 'advantage', 'advice', 'afford', 'age', 'agreeable', 'allow', 'allowance', 'alteration', 'although', 'another', 'answer', 'answered', 'apartment', 'appearance', 'article', 'assurance', 'astonished', 'attempt', 'attempted', 'attending', 'aware', 'barton', 'bed', 'behaved', 'behaviour', 'believe', 'believed', 'beloved', 'besides', 'body', 'boisterous', 'boy', 'branched', 'breakfast', 'breeding', 'carried', 'cause', 'chamber', 'change', 'charmed', 'chicken', 'chief', 'civilly', 'comfort', 'concealed', 'concern', 'concluded', 'connection', 'contempt', 'contented', 'continual', 'conveying', 'cordial', 'cordially', 'cottage', 'country', 'county', 'course', 'cultivated', 'dashwood', 'day', 'debating', 'decisively', 'defer', 'delay', 'demesne', 'depending', 'desirous', 'determine', 'detract', 'distrust', 'domestic', 'down', 'eagerness', 'earnestly', 'easily', 'education', 'effect', 'either', 'elinor', 'engaged', 'enjoyed', 'enjoyment', 'equally', 'estate', 'esteem', 'estimable', 'evening', 'event', 'examine', 'except', 'exercise', 'explain', 'exposed', 'extended', 'extremity', 'fancy', 'fat', 'father', 'favour', 'felicity', 'female', 'fine', 'formed', 'forming', 'frankness', 'friendship', 'furniture', 'gay', 'general', 'genius', 'gentleman', 'get', 'going', 'good', 'ham', 'hardly', 'hearing', 'hill', 'home', 'hope', 'horrible', 'however', 'improve', 'imprudence', 'increasing', 'indulgence', 'innate', 'interested', 'invitation', 'joy', 'justice', 'kindness', 'knowledge', 'large', 'laughing', 'laughter', 'law', 'leave', 'led', 'letter', 'likewise', 'limited', 'little', 'living', 'lover', 'luckily', 'make', 'man', 'manor', 'material', 'melancholy', 'merely', 'merit', 'met', 'middleton', 'mile', 'missed', 'mistake', 'moment', 'moonlight', 'mother', 'motionless', 'mr', 'musical', 'mutual', 'necessary', 'new', 'newspaper', 'noise', 'noisy', 'norland', 'offered', 'oh', 'one', 'opinion', 'overcame', 'package', 'passage', 'pasture', 'people', 'perhaps', 'place', 'prepare', 'prevailed', 'proceed', 'produce', 'properly', 'prudent', 'pursuit', 'put', 'raising', 'rapturous', 'rather', 'reached', 'really', 'received', 'regular', 'relation', 'remember', 'replied', 'resolution', 'roused', 'saved', 'saving', 'say', 'securing', 'seemed', 'seen', 'sensible', 'sent', 'separate', 'set', 'sex', 'share', 'shy', 'silent', 'simple', 'sincerity', 'sitting', 'six', 'small', 'sociable', 'solicitude', 'something', 'son', 'song', 'soon', 'spoil', 'stanhill', 'stimulated', 'strictly', 'studied', 'stuff', 'subject', 'suffer', 'suffering', 'suppose', 'suspected', 'tear', 'ten', 'thing', 'thoroughly', 'though', 'thrown', 'timed', 'tree', 'tried', 'understood', 'uneasy', 'unpleasant', 'unreserved', 'valley', 'vanity', 'venture', 'view', 'viewing', 'voice', 'waiting', 'water', 'wedding', 'whence', 'widen', 'widow', 'window', 'wisdom', 'wish', 'wished', 'within', 'woman', 'woody', 'word', 'world', 'wound', 'ye', 'yet', 'young', 'zealously']\n",
      "[[0.         0.         0.         ... 0.         0.         0.        ]\n",
      " [0.         0.         0.         ... 0.         0.         0.        ]\n",
      " [0.         0.         0.17392661 ... 0.         0.         0.        ]\n",
      " ...\n",
      " [0.         0.11104921 0.         ... 0.         0.15897383 0.        ]\n",
      " [0.         0.11104921 0.         ... 0.         0.15897383 0.        ]\n",
      " [0.         0.11285414 0.         ... 0.         0.         0.        ]]\n"
     ]
    }
   ],
   "source": [
    "# tfidf matrix using TfidfVectorizer()\n",
    "from sklearn.feature_extraction.text import TfidfVectorizer \n",
    "tfidfvectorizer = TfidfVectorizer()\n",
    "X = tfidfvectorizer.fit_transform(cleaned_corpus)\n",
    "print(tfidfvectorizer.get_feature_names())\n",
    "print(X.toarray())"
   ]
  },
  {
   "cell_type": "markdown",
   "metadata": {},
   "source": [
    "# q3 (b)"
   ]
  },
  {
   "cell_type": "code",
   "execution_count": 59,
   "metadata": {},
   "outputs": [
    {
     "name": "stdout",
     "output_type": "stream",
     "text": [
      "283\n",
      "['.', 'acuteness', 'add', 'addition', 'admitted', 'advantage', 'advice', 'afford', 'age', 'agreeable', 'allow', 'allowance', 'alteration', 'although', 'another', 'answer', 'answered', 'apartment', 'appearance', 'article', 'assurance', 'astonished', 'attempt', 'attempted', 'attending', 'aware', 'barton', 'bed', 'behaved', 'behaviour', 'believe', 'believed', 'beloved', 'besides', 'body', 'boisterous', 'boy', 'branched', 'breakfast', 'breeding', 'carried', 'cause', 'chamber', 'change', 'charmed', 'chicken', 'chief', 'civilly', 'comfort', 'concealed', 'concern', 'concluded', 'connection', 'contempt', 'contented', 'continual', 'conveying', 'cordial', 'cordially', 'cottage', 'country', 'county', 'course', 'cultivated', 'dashwood', 'day', 'debating', 'decisively', 'defer', 'delay', 'demesne', 'depending', 'desirous', 'determine', 'detract', 'distrust', 'domestic', 'down', 'eagerness', 'earnestly', 'easily', 'education', 'effect', 'either', 'elinor', 'engaged', 'enjoyed', 'enjoyment', 'equally', 'estate', 'esteem', 'estimable', 'evening', 'event', 'examine', 'except', 'exercise', 'explain', 'exposed', 'extended', 'extremity', 'fancy', 'fat', 'father', 'favour', 'felicity', 'female', 'fine', 'formed', 'forming', 'frankness', 'friendship', 'furniture', 'gay', 'general', 'genius', 'gentleman', 'get', 'going', 'good', 'ham', 'hardly', 'hearing', 'hill', 'home', 'hope', 'horrible', 'however', 'improve', 'imprudence', 'increasing', 'indulgence', 'innate', 'interested', 'invitation', 'joy', 'justice', 'kindness', 'knowledge', 'large', 'laughing', 'laughter', 'law', 'leave', 'led', 'letter', 'likewise', 'limited', 'little', 'living', 'lover', 'luckily', 'make', 'man', 'manor', 'material', 'melancholy', 'merely', 'merit', 'met', 'middleton', 'mile', 'missed', 'mistake', 'moment', 'moonlight', 'mother', 'motionless', 'mr', 'musical', 'mutual', 'necessary', 'new', 'newspaper', 'noise', 'noisy', 'norland', 'offered', 'oh', 'one', 'opinion', 'overcame', 'package', 'passage', 'pasture', 'people', 'perhaps', 'place', 'prepare', 'prevailed', 'proceed', 'produce', 'properly', 'prudent', 'pursuit', 'put', 'raising', 'rapturous', 'rather', 'reached', 'really', 'received', 'regular', 'relation', 'remember', 'replied', 'resolution', 'roused', 'saved', 'saving', 'say', 'securing', 'seemed', 'seen', 'sensible', 'sent', 'separate', 'set', 'sex', 'share', 'shy', 'silent', 'simple', 'sincerity', 'sitting', 'six', 'small', 'sociable', 'solicitude', 'something', 'son', 'song', 'soon', 'spoil', 'stanhill', 'stimulated', 'strictly', 'studied', 'stuff', 'subject', 'suffer', 'suffering', 'suppose', 'suspected', 'tear', 'ten', 'thing', 'thoroughly', 'though', 'thrown', 'timed', 'tree', 'tried', 'understood', 'uneasy', 'unpleasant', 'unreserved', 'valley', 'vanity', 'venture', 'view', 'viewing', 'voice', 'waiting', 'water', 'wedding', 'whence', 'widen', 'widow', 'window', 'wisdom', 'wish', 'wished', 'within', 'woman', 'woody', 'word', 'world', 'wound', 'ye', 'yet', 'young', 'zealously']\n"
     ]
    }
   ],
   "source": [
    "features = []\n",
    "for i in range(len(cleaned_corpus)):\n",
    "    for word in cleaned_corpus[i].split():\n",
    "        if word not in features:\n",
    "            features.append(word)\n",
    "features.sort()\n",
    "print(len(features))\n",
    "print(features)"
   ]
  },
  {
   "cell_type": "code",
   "execution_count": 61,
   "metadata": {},
   "outputs": [
    {
     "name": "stdout",
     "output_type": "stream",
     "text": [
      "[[10.  0.  0. ...  0.  0.  0.]\n",
      " [ 8.  0.  0. ...  0.  0.  0.]\n",
      " [ 6.  0.  0. ...  0.  0.  0.]\n",
      " ...\n",
      " [ 7.  0.  1. ...  0.  1.  0.]\n",
      " [ 7.  0.  1. ...  0.  1.  0.]\n",
      " [ 6.  0.  1. ...  0.  0.  0.]]\n"
     ]
    }
   ],
   "source": [
    "# Bag of words without using inbuilt function \n",
    "import numpy as np\n",
    "bow = np.zeros((len(cleaned_corpus), len(features)))\n",
    "for i in range(len(cleaned_corpus)):\n",
    "    for j in range(len(features)):\n",
    "        bow[i][j] = cleaned_corpus[i].split().count(features[j])\n",
    "print(bow)"
   ]
  },
  {
   "cell_type": "code",
   "execution_count": 62,
   "metadata": {},
   "outputs": [
    {
     "name": "stdout",
     "output_type": "stream",
     "text": [
      "283\n",
      "[1.         2.70474809 1.6061358  2.29928298 2.70474809 2.70474809\n",
      " 2.70474809 2.70474809 2.29928298 2.29928298 2.29928298 2.70474809\n",
      " 2.29928298 2.29928298 2.70474809 2.29928298 2.70474809 2.70474809\n",
      " 2.70474809 2.70474809 2.70474809 2.70474809 2.29928298 2.70474809\n",
      " 2.70474809 2.70474809 2.70474809 2.70474809 2.70474809 2.70474809\n",
      " 2.70474809 2.29928298 2.70474809 2.29928298 2.29928298 2.70474809\n",
      " 2.70474809 2.29928298 2.70474809 2.29928298 2.70474809 2.70474809\n",
      " 2.29928298 2.29928298 2.70474809 2.70474809 2.70474809 2.29928298\n",
      " 2.29928298 2.29928298 2.70474809 2.70474809 2.29928298 2.70474809\n",
      " 2.70474809 2.70474809 2.70474809 2.70474809 2.70474809 2.70474809\n",
      " 2.70474809 2.70474809 2.29928298 2.70474809 2.70474809 2.70474809\n",
      " 2.70474809 2.70474809 2.70474809 2.70474809 2.70474809 2.29928298\n",
      " 2.70474809 2.70474809 2.29928298 2.70474809 2.70474809 2.70474809\n",
      " 2.70474809 2.70474809 2.29928298 2.70474809 2.70474809 2.70474809\n",
      " 2.29928298 2.70474809 2.70474809 2.29928298 2.70474809 2.70474809\n",
      " 2.70474809 2.70474809 2.70474809 2.70474809 2.70474809 2.70474809\n",
      " 2.29928298 2.70474809 2.70474809 2.70474809 2.70474809 2.29928298\n",
      " 2.70474809 2.70474809 2.70474809 2.70474809 2.70474809 2.70474809\n",
      " 2.70474809 2.70474809 2.70474809 2.29928298 2.70474809 2.29928298\n",
      " 2.70474809 2.70474809 2.70474809 2.29928298 2.70474809 2.70474809\n",
      " 2.29928298 2.70474809 2.29928298 2.29928298 2.70474809 2.70474809\n",
      " 2.70474809 2.70474809 2.70474809 2.70474809 2.70474809 2.70474809\n",
      " 2.70474809 2.70474809 2.70474809 2.01160091 2.70474809 2.70474809\n",
      " 2.70474809 2.70474809 2.29928298 2.70474809 2.01160091 2.70474809\n",
      " 2.01160091 2.70474809 2.70474809 2.70474809 2.70474809 2.01160091\n",
      " 2.70474809 2.29928298 2.70474809 2.70474809 2.70474809 2.29928298\n",
      " 2.70474809 2.70474809 2.29928298 2.70474809 2.70474809 2.29928298\n",
      " 2.70474809 2.70474809 2.70474809 2.29928298 2.29928298 2.70474809\n",
      " 2.70474809 2.29928298 2.70474809 2.29928298 2.29928298 2.01160091\n",
      " 2.70474809 2.29928298 2.70474809 2.29928298 2.01160091 2.70474809\n",
      " 2.70474809 2.70474809 2.70474809 2.70474809 2.70474809 2.70474809\n",
      " 2.01160091 2.70474809 2.29928298 2.70474809 2.70474809 2.70474809\n",
      " 2.70474809 2.70474809 2.29928298 2.70474809 2.70474809 2.29928298\n",
      " 2.70474809 2.29928298 2.70474809 2.70474809 2.70474809 2.70474809\n",
      " 2.70474809 2.70474809 2.70474809 2.70474809 2.70474809 2.70474809\n",
      " 2.70474809 2.70474809 2.70474809 2.70474809 2.70474809 2.70474809\n",
      " 2.29928298 2.70474809 2.29928298 2.29928298 2.29928298 2.70474809\n",
      " 2.70474809 2.70474809 2.01160091 2.29928298 2.29928298 2.70474809\n",
      " 2.70474809 2.70474809 2.01160091 2.70474809 2.70474809 2.70474809\n",
      " 2.70474809 2.70474809 2.29928298 2.29928298 2.70474809 2.70474809\n",
      " 2.70474809 2.29928298 2.70474809 2.70474809 2.70474809 2.29928298\n",
      " 2.70474809 2.70474809 2.29928298 2.70474809 2.29928298 2.70474809\n",
      " 2.70474809 2.70474809 2.70474809 2.70474809 2.70474809 2.70474809\n",
      " 2.70474809 2.70474809 2.70474809 2.70474809 2.29928298 2.70474809\n",
      " 2.70474809 2.29928298 2.70474809 2.29928298 2.70474809 2.70474809\n",
      " 2.70474809 2.70474809 2.29928298 2.29928298 2.70474809 2.70474809\n",
      " 2.70474809 2.70474809 2.70474809 1.6061358  2.70474809 2.29928298\n",
      " 2.70474809]\n"
     ]
    }
   ],
   "source": [
    "# calculating idf matrix\n",
    "idf = np.zeros(len(features))\n",
    "df = np.zeros(len(features))\n",
    "n = len(cleaned_corpus)\n",
    "for i in range(len(features)):\n",
    "    df[i] = 0\n",
    "    for j in range(len(cleaned_corpus)):\n",
    "        if features[i] in cleaned_corpus[j].split():\n",
    "            df[i] += 1\n",
    "    idf[i] = np.log((1+n)/(1+df[i])) + 1\n",
    "print(len(idf))\n",
    "print(idf)"
   ]
  },
  {
   "cell_type": "code",
   "execution_count": 63,
   "metadata": {},
   "outputs": [
    {
     "name": "stdout",
     "output_type": "stream",
     "text": [
      "[[10.          0.          0.         ...  0.          0.\n",
      "   0.        ]\n",
      " [ 8.          0.          0.         ...  0.          0.\n",
      "   0.        ]\n",
      " [ 6.          0.          0.         ...  0.          0.\n",
      "   0.        ]\n",
      " ...\n",
      " [ 7.          0.          1.6061358  ...  0.          2.29928298\n",
      "   0.        ]\n",
      " [ 7.          0.          1.6061358  ...  0.          2.29928298\n",
      "   0.        ]\n",
      " [ 6.          0.          1.6061358  ...  0.          0.\n",
      "   0.        ]]\n"
     ]
    }
   ],
   "source": [
    "# calculating tfidf matrix \n",
    "tfidf = np.multiply(bow, idf) \n",
    "print(tfidf)"
   ]
  },
  {
   "cell_type": "code",
   "execution_count": 64,
   "metadata": {},
   "outputs": [
    {
     "name": "stdout",
     "output_type": "stream",
     "text": [
      "['acuteness', 'add', 'addition', 'admitted', 'advantage', 'advice', 'afford', 'age', 'agreeable', 'allow', 'allowance', 'alteration', 'although', 'another', 'answer', 'answered', 'apartment', 'appearance', 'article', 'assurance', 'astonished', 'attempt', 'attempted', 'attending', 'aware', 'barton', 'bed', 'behaved', 'behaviour', 'believe', 'believed', 'beloved', 'besides', 'body', 'boisterous', 'boy', 'branched', 'breakfast', 'breeding', 'carried', 'cause', 'chamber', 'change', 'charmed', 'chicken', 'chief', 'civilly', 'comfort', 'concealed', 'concern', 'concluded', 'connection', 'contempt', 'contented', 'continual', 'conveying', 'cordial', 'cordially', 'cottage', 'country', 'county', 'course', 'cultivated', 'dashwood', 'day', 'debating', 'decisively', 'defer', 'delay', 'demesne', 'depending', 'desirous', 'determine', 'detract', 'distrust', 'domestic', 'down', 'eagerness', 'earnestly', 'easily', 'education', 'effect', 'either', 'elinor', 'engaged', 'enjoyed', 'enjoyment', 'equally', 'estate', 'esteem', 'estimable', 'evening', 'event', 'examine', 'except', 'exercise', 'explain', 'exposed', 'extended', 'extremity', 'fancy', 'fat', 'father', 'favour', 'felicity', 'female', 'fine', 'formed', 'forming', 'frankness', 'friendship', 'furniture', 'gay', 'general', 'genius', 'gentleman', 'get', 'going', 'good', 'ham', 'hardly', 'hearing', 'hill', 'home', 'hope', 'horrible', 'however', 'improve', 'imprudence', 'increasing', 'indulgence', 'innate', 'interested', 'invitation', 'joy', 'justice', 'kindness', 'knowledge', 'large', 'laughing', 'laughter', 'law', 'leave', 'led', 'letter', 'likewise', 'limited', 'little', 'living', 'lover', 'luckily', 'make', 'man', 'manor', 'material', 'melancholy', 'merely', 'merit', 'met', 'middleton', 'mile', 'missed', 'mistake', 'moment', 'moonlight', 'mother', 'motionless', 'mr', 'musical', 'mutual', 'necessary', 'new', 'newspaper', 'noise', 'noisy', 'norland', 'offered', 'oh', 'one', 'opinion', 'overcame', 'package', 'passage', 'pasture', 'people', 'perhaps', 'place', 'prepare', 'prevailed', 'proceed', 'produce', 'properly', 'prudent', 'pursuit', 'put', 'raising', 'rapturous', 'rather', 'reached', 'really', 'received', 'regular', 'relation', 'remember', 'replied', 'resolution', 'roused', 'saved', 'saving', 'say', 'securing', 'seemed', 'seen', 'sensible', 'sent', 'separate', 'set', 'sex', 'share', 'shy', 'silent', 'simple', 'sincerity', 'sitting', 'six', 'small', 'sociable', 'solicitude', 'something', 'son', 'song', 'soon', 'spoil', 'stanhill', 'stimulated', 'strictly', 'studied', 'stuff', 'subject', 'suffer', 'suffering', 'suppose', 'suspected', 'tear', 'ten', 'thing', 'thoroughly', 'though', 'thrown', 'timed', 'tree', 'tried', 'understood', 'uneasy', 'unpleasant', 'unreserved', 'valley', 'vanity', 'venture', 'view', 'viewing', 'voice', 'waiting', 'water', 'wedding', 'whence', 'widen', 'widow', 'window', 'wisdom', 'wish', 'wished', 'within', 'woman', 'woody', 'word', 'world', 'wound', 'ye', 'yet', 'young', 'zealously']\n",
      "[[0.         0.         0.         ... 0.         0.         0.        ]\n",
      " [0.         0.         0.         ... 0.         0.         0.        ]\n",
      " [0.         0.         0.17392661 ... 0.         0.         0.        ]\n",
      " ...\n",
      " [0.         0.11104921 0.         ... 0.         0.15897383 0.        ]\n",
      " [0.         0.11104921 0.         ... 0.         0.15897383 0.        ]\n",
      " [0.         0.11285414 0.         ... 0.         0.         0.        ]]\n"
     ]
    }
   ],
   "source": [
    "# tfidf matrix using TfidfVectorizer() for comparison\n",
    "from sklearn.feature_extraction.text import TfidfVectorizer \n",
    "tfidfvectorizer = TfidfVectorizer()\n",
    "X = tfidfvectorizer.fit_transform(cleaned_corpus)\n",
    "print(vectorizer.get_feature_names())\n",
    "print(X.toarray())"
   ]
  },
  {
   "cell_type": "markdown",
   "metadata": {},
   "source": [
    "# q4"
   ]
  },
  {
   "cell_type": "code",
   "execution_count": 10,
   "metadata": {},
   "outputs": [],
   "source": [
    "html = [\"\"\"\n",
    "<!DOCTYPE html>\n",
    "<html lang=\"en\">\n",
    "<head>\n",
    "<title>Page Title</title>\n",
    "<meta charset=\"UTF-8\">\n",
    "<meta name=\"viewport\" content=\"width=device-width, initial-scale=1\"> <style>\n",
    "</style>\n",
    "</head>\n",
    "<body>\n",
    "<p>The function <code>selectAll()</code> highlights all the text in the input field so the user can, for example, copy or delete the text.</p> <h1>My Bad</h1>\n",
    "<p>can't find anything better.</p>\n",
    "How can I be this silly, but it doesn't matter anyway, Hahah\n",
    "</body>\n",
    "</html>\n",
    "\"\"\",\"\"\"\n",
    "<!DOCTYPE html>\n",
    "<html lang=\"en\">\n",
    "<head>\n",
    "<title>Page Title</title>\n",
    "<meta charset=\"UTF-8\">\n",
    "<meta name=\"viewport\" content=\"width=device-width, initial-scale=1\"> <style>\n",
    "</style>\n",
    "</head>\n",
    "<body>\n",
    "<p>The function <code>selectAll()</code> highlights all the text in the input field so the user can, for example, copy or delete the text.</p> <h1>My Bad</h1>\n",
    "<p>can't find anything better.</p>\n",
    "How can I be this silly, but it doesn't matter anyway, Hahah\n",
    "</body>\n",
    "</html>\n",
    "\"\"\",\"\"\"\n",
    "<!DOCTYPE html>\n",
    "<html lang=\"en\">\n",
    "<head>\n",
    "<title>Page Title</title>\n",
    "<meta charset=\"UTF-8\">\n",
    "<meta name=\"viewport\" content=\"width=device-width, initial-scale=1\"> <style>\n",
    "</style>\n",
    "</head>\n",
    "<body>\n",
    "<p>The function <code>selectAll()</code> highlights all the text in the input field so the user can, for example, copy or delete the text.</p> <h1>My Bad</h1>\n",
    "<p>can't find anything better.</p>\n",
    "How can I be this silly, but it doesn't matter anyway, Hahah\n",
    "</body>\n",
    "</html>\n",
    "\"\"\"]"
   ]
  },
  {
   "cell_type": "code",
   "execution_count": 14,
   "metadata": {},
   "outputs": [
    {
     "data": {
      "text/plain": [
       "[\"\\n\\n\\n\\nPage Title\\n\\n \\n\\n\\nThe function selectAll() highlights all the text in the input field so the user can, for example, copy or delete the text. My Bad\\ncan't find anything better.\\nHow can I be this silly, but it doesn't matter anyway, Hahah\\n\\n\\n\",\n",
       " \"\\n\\n\\n\\nPage Title\\n\\n \\n\\n\\nThe function selectAll() highlights all the text in the input field so the user can, for example, copy or delete the text. My Bad\\ncan't find anything better.\\nHow can I be this silly, but it doesn't matter anyway, Hahah\\n\\n\\n\",\n",
       " \"\\n\\n\\n\\nPage Title\\n\\n \\n\\n\\nThe function selectAll() highlights all the text in the input field so the user can, for example, copy or delete the text. My Bad\\ncan't find anything better.\\nHow can I be this silly, but it doesn't matter anyway, Hahah\\n\\n\\n\"]"
      ]
     },
     "execution_count": 14,
     "metadata": {},
     "output_type": "execute_result"
    }
   ],
   "source": [
    "import bs4\n",
    "from bs4 import BeautifulSoup\n",
    "data = []\n",
    "for i in range(len(html)):\n",
    "    soup = BeautifulSoup(html[i], 'html.parser')\n",
    "    data.append(soup.get_text())\n",
    "data"
   ]
  },
  {
   "cell_type": "code",
   "execution_count": null,
   "metadata": {},
   "outputs": [],
   "source": []
  },
  {
   "cell_type": "code",
   "execution_count": 15,
   "metadata": {},
   "outputs": [
    {
     "name": "stdout",
     "output_type": "stream",
     "text": [
      "[\"\\n\\n\\n\\nPage Title\\n\\n \\n\\n\\nThe function selectAll() highlights all the text in the input field so the user can, for example, copy or delete the text. My Bad\\ncan't find anything better.\\nHow can I be this silly, but it doesn't matter anyway, Hahah\\n\\n\\n\", \"\\n\\n\\n\\nPage Title\\n\\n \\n\\n\\nThe function selectAll() highlights all the text in the input field so the user can, for example, copy or delete the text. My Bad\\ncan't find anything better.\\nHow can I be this silly, but it doesn't matter anyway, Hahah\\n\\n\\n\", \"\\n\\n\\n\\nPage Title\\n\\n \\n\\n\\nThe function selectAll() highlights all the text in the input field so the user can, for example, copy or delete the text. My Bad\\ncan't find anything better.\\nHow can I be this silly, but it doesn't matter anyway, Hahah\\n\\n\\n\"]\n",
      "[\"page title the function selectall() highlights all the text in the input field so the user can, for example, copy or delete the text. my bad can't find anything better. how can i be this silly, but it doesn't matter anyway, hahah\", \"page title the function selectall() highlights all the text in the input field so the user can, for example, copy or delete the text. my bad can't find anything better. how can i be this silly, but it doesn't matter anyway, hahah\", \"page title the function selectall() highlights all the text in the input field so the user can, for example, copy or delete the text. my bad can't find anything better. how can i be this silly, but it doesn't matter anyway, hahah\"]\n"
     ]
    }
   ],
   "source": [
    "# Normalization\n",
    "corpus = data\n",
    "lower_corpus=[] \n",
    "print(corpus)\n",
    "for i in range(len(corpus)):\n",
    "    lower_corpus.append(' '.join([word.lower() for word in corpus[i].split()]))\n",
    "print(lower_corpus)"
   ]
  },
  {
   "cell_type": "code",
   "execution_count": 16,
   "metadata": {},
   "outputs": [
    {
     "name": "stdout",
     "output_type": "stream",
     "text": [
      "[['page', 'title', 'the', 'function', 'selectall', '(', ')', 'highlights', 'all', 'the', 'text', 'in', 'the', 'input', 'field', 'so', 'the', 'user', 'can', ',', 'for', 'example', ',', 'copy', 'or', 'delete', 'the', 'text', '.', 'my', 'bad', 'ca', \"n't\", 'find', 'anything', 'better', '.', 'how', 'can', 'i', 'be', 'this', 'silly', ',', 'but', 'it', 'does', \"n't\", 'matter', 'anyway', ',', 'hahah'], ['page', 'title', 'the', 'function', 'selectall', '(', ')', 'highlights', 'all', 'the', 'text', 'in', 'the', 'input', 'field', 'so', 'the', 'user', 'can', ',', 'for', 'example', ',', 'copy', 'or', 'delete', 'the', 'text', '.', 'my', 'bad', 'ca', \"n't\", 'find', 'anything', 'better', '.', 'how', 'can', 'i', 'be', 'this', 'silly', ',', 'but', 'it', 'does', \"n't\", 'matter', 'anyway', ',', 'hahah'], ['page', 'title', 'the', 'function', 'selectall', '(', ')', 'highlights', 'all', 'the', 'text', 'in', 'the', 'input', 'field', 'so', 'the', 'user', 'can', ',', 'for', 'example', ',', 'copy', 'or', 'delete', 'the', 'text', '.', 'my', 'bad', 'ca', \"n't\", 'find', 'anything', 'better', '.', 'how', 'can', 'i', 'be', 'this', 'silly', ',', 'but', 'it', 'does', \"n't\", 'matter', 'anyway', ',', 'hahah']]\n"
     ]
    }
   ],
   "source": [
    "# tokenization\n",
    "from nltk.tokenize import word_tokenize\n",
    "tokenized_corpus=[]\n",
    "for i in range(len(lower_corpus)):\n",
    "    tokenized_corpus.append([word for word in word_tokenize(lower_corpus[i]) ])\n",
    "print(tokenized_corpus)"
   ]
  },
  {
   "cell_type": "code",
   "execution_count": 17,
   "metadata": {},
   "outputs": [
    {
     "name": "stdout",
     "output_type": "stream",
     "text": [
      "[['page', 'title', 'function', 'selectall', '(', ')', 'highlights', 'text', 'input', 'field', 'user', ',', 'example', ',', 'copy', 'delete', 'text', '.', 'bad', 'ca', \"n't\", 'find', 'anything', 'better', '.', 'silly', ',', \"n't\", 'matter', 'anyway', ',', 'hahah'], ['page', 'title', 'function', 'selectall', '(', ')', 'highlights', 'text', 'input', 'field', 'user', ',', 'example', ',', 'copy', 'delete', 'text', '.', 'bad', 'ca', \"n't\", 'find', 'anything', 'better', '.', 'silly', ',', \"n't\", 'matter', 'anyway', ',', 'hahah'], ['page', 'title', 'function', 'selectall', '(', ')', 'highlights', 'text', 'input', 'field', 'user', ',', 'example', ',', 'copy', 'delete', 'text', '.', 'bad', 'ca', \"n't\", 'find', 'anything', 'better', '.', 'silly', ',', \"n't\", 'matter', 'anyway', ',', 'hahah']]\n"
     ]
    }
   ],
   "source": [
    "# stopwords removal\n",
    "from nltk.corpus import stopwords\n",
    "stop=stopwords.words(fileids='english')\n",
    "tokenized_corpus_nostop=[]\n",
    "for i in range(len(tokenized_corpus)):\n",
    "    tokenized_corpus_nostop.append([word for word in tokenized_corpus[i] if word not in stop])\n",
    "print(tokenized_corpus_nostop)"
   ]
  },
  {
   "cell_type": "code",
   "execution_count": 19,
   "metadata": {},
   "outputs": [
    {
     "name": "stdout",
     "output_type": "stream",
     "text": [
      "[['page', 'title', 'function', 'selectall', '(', ')', 'highlight', 'text', 'input', 'field', 'user', ',', 'example', ',', 'copy', 'delete', 'text', '.', 'bad', 'ca', \"n't\", 'find', 'anything', 'better', '.', 'silly', ',', \"n't\", 'matter', 'anyway', ',', 'hahah'], ['page', 'title', 'function', 'selectall', '(', ')', 'highlight', 'text', 'input', 'field', 'user', ',', 'example', ',', 'copy', 'delete', 'text', '.', 'bad', 'ca', \"n't\", 'find', 'anything', 'better', '.', 'silly', ',', \"n't\", 'matter', 'anyway', ',', 'hahah'], ['page', 'title', 'function', 'selectall', '(', ')', 'highlight', 'text', 'input', 'field', 'user', ',', 'example', ',', 'copy', 'delete', 'text', '.', 'bad', 'ca', \"n't\", 'find', 'anything', 'better', '.', 'silly', ',', \"n't\", 'matter', 'anyway', ',', 'hahah']]\n"
     ]
    }
   ],
   "source": [
    "# lemmatization\n",
    "from nltk.stem import WordNetLemmatizer\n",
    "lemmatizer = WordNetLemmatizer()\n",
    "tokenized_corpus_nostop_lemmatized=[]\n",
    "for i in range(len(tokenized_corpus_nostop)):\n",
    "    tokenized_corpus_nostop_lemmatized.append([lemmatizer.lemmatize(word) for word in tokenized_corpus_nostop[i]])\n",
    "print(tokenized_corpus_nostop_lemmatized)"
   ]
  },
  {
   "cell_type": "code",
   "execution_count": 21,
   "metadata": {},
   "outputs": [
    {
     "name": "stdout",
     "output_type": "stream",
     "text": [
      "26\n",
      "['(', ')', ',', '.', 'anything', 'anyway', 'bad', 'better', 'ca', 'copy', 'delete', 'example', 'field', 'find', 'function', 'hahah', 'highlight', 'input', 'matter', \"n't\", 'page', 'selectall', 'silly', 'text', 'title', 'user']\n"
     ]
    }
   ],
   "source": [
    "# creating feature vector\n",
    "features = []\n",
    "for i in range(len(tokenized_corpus_nostop_lemmatized)): \n",
    "    for word in tokenized_corpus_nostop_lemmatized[i]:\n",
    "\n",
    "        if word not in features: \n",
    "            features.append(word)\n",
    "features.sort()\n",
    "print(len(features))\n",
    "print(features)"
   ]
  },
  {
   "cell_type": "code",
   "execution_count": null,
   "metadata": {},
   "outputs": [],
   "source": []
  }
 ],
 "metadata": {
  "kernelspec": {
   "display_name": "Python 3",
   "language": "python",
   "name": "python3"
  },
  "language_info": {
   "codemirror_mode": {
    "name": "ipython",
    "version": 3
   },
   "file_extension": ".py",
   "mimetype": "text/x-python",
   "name": "python",
   "nbconvert_exporter": "python",
   "pygments_lexer": "ipython3",
   "version": "3.7.0"
  }
 },
 "nbformat": 4,
 "nbformat_minor": 2
}
